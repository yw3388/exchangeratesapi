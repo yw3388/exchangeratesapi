{
 "cells": [
  {
   "cell_type": "code",
   "execution_count": 4,
   "metadata": {},
   "outputs": [],
   "source": [
    "#given returns, and sum to one\n",
    "#用一个函数记录收益 方差 夏普比\n",
    "import pandas as pd\n",
    "import numpy as np\n",
    "import statsmodels.api as sm\n",
    "import scipy.stats as scs\n",
    "import matplotlib.pyplot as plt"
   ]
  },
  {
   "cell_type": "code",
   "execution_count": 7,
   "metadata": {},
   "outputs": [],
   "source": [
    "import requests\n",
    "import urllib3\n",
    "from pandas_datareader import data as pdr\n",
    "import numpy as np\n",
    "\n",
    "import yahoo_fin as yf\n",
    "from yahoo_fin.stock_info import get_data\n",
    "#ops.get_calls(\"BTC-USD\")\n",
    "ten_yield = get_data('^TNX')\n",
    "eth = get_data('ETH-USD')\n",
    "btc = get_data('BTC-USD')"
   ]
  },
  {
   "cell_type": "code",
   "execution_count": 73,
   "metadata": {},
   "outputs": [
    {
     "data": {
      "text/plain": [
       "<matplotlib.axes._subplots.AxesSubplot at 0x13a5cb4d0>"
      ]
     },
     "execution_count": 73,
     "metadata": {},
     "output_type": "execute_result"
    },
    {
     "data": {
      "image/png": "[encoded data removed]",
      "text/plain": [
       "<Figure size 432x288 with 1 Axes>"
      ]
     },
     "metadata": {
      "needs_background": "light"
     },
     "output_type": "display_data"
    }
   ],
   "source": [
    "get_data('^GSPC').close.plot()\n"
   ]
  },
  {
   "cell_type": "code",
   "execution_count": 19,
   "metadata": {},
   "outputs": [
    {
     "data": {
      "text/html": [
       "<div>\n",
       "<style scoped>\n",
       "    .dataframe tbody tr th:only-of-type {\n",
       "        vertical-align: middle;\n",
       "    }\n",
       "\n",
       "    .dataframe tbody tr th {\n",
       "        vertical-align: top;\n",
       "    }\n",
       "\n",
       "    .dataframe thead th {\n",
       "        text-align: right;\n",
       "    }\n",
       "</style>\n",
       "<table border=\"1\" class=\"dataframe\">\n",
       "  <thead>\n",
       "    <tr style=\"text-align: right;\">\n",
       "      <th></th>\n",
       "      <th>open</th>\n",
       "      <th>high</th>\n",
       "      <th>low</th>\n",
       "      <th>close</th>\n",
       "      <th>adjclose</th>\n",
       "      <th>volume</th>\n",
       "      <th>ticker</th>\n",
       "    </tr>\n",
       "  </thead>\n",
       "  <tbody>\n",
       "    <tr>\n",
       "      <td>1970-03-25</td>\n",
       "      <td>6.960</td>\n",
       "      <td>6.960</td>\n",
       "      <td>6.960</td>\n",
       "      <td>6.960</td>\n",
       "      <td>6.960</td>\n",
       "      <td>0.0</td>\n",
       "      <td>^TNX</td>\n",
       "    </tr>\n",
       "    <tr>\n",
       "      <td>1970-03-26</td>\n",
       "      <td>6.980</td>\n",
       "      <td>6.980</td>\n",
       "      <td>6.980</td>\n",
       "      <td>6.980</td>\n",
       "      <td>6.980</td>\n",
       "      <td>0.0</td>\n",
       "      <td>^TNX</td>\n",
       "    </tr>\n",
       "    <tr>\n",
       "      <td>1970-03-27</td>\n",
       "      <td>NaN</td>\n",
       "      <td>NaN</td>\n",
       "      <td>NaN</td>\n",
       "      <td>NaN</td>\n",
       "      <td>NaN</td>\n",
       "      <td>NaN</td>\n",
       "      <td>^TNX</td>\n",
       "    </tr>\n",
       "    <tr>\n",
       "      <td>1970-03-29</td>\n",
       "      <td>NaN</td>\n",
       "      <td>NaN</td>\n",
       "      <td>NaN</td>\n",
       "      <td>NaN</td>\n",
       "      <td>NaN</td>\n",
       "      <td>NaN</td>\n",
       "      <td>^TNX</td>\n",
       "    </tr>\n",
       "    <tr>\n",
       "      <td>1970-03-30</td>\n",
       "      <td>7.050</td>\n",
       "      <td>7.050</td>\n",
       "      <td>7.050</td>\n",
       "      <td>7.050</td>\n",
       "      <td>7.050</td>\n",
       "      <td>0.0</td>\n",
       "      <td>^TNX</td>\n",
       "    </tr>\n",
       "    <tr>\n",
       "      <td>...</td>\n",
       "      <td>...</td>\n",
       "      <td>...</td>\n",
       "      <td>...</td>\n",
       "      <td>...</td>\n",
       "      <td>...</td>\n",
       "      <td>...</td>\n",
       "      <td>...</td>\n",
       "    </tr>\n",
       "    <tr>\n",
       "      <td>2020-09-23</td>\n",
       "      <td>0.679</td>\n",
       "      <td>0.692</td>\n",
       "      <td>0.671</td>\n",
       "      <td>0.676</td>\n",
       "      <td>0.676</td>\n",
       "      <td>0.0</td>\n",
       "      <td>^TNX</td>\n",
       "    </tr>\n",
       "    <tr>\n",
       "      <td>2020-09-24</td>\n",
       "      <td>0.668</td>\n",
       "      <td>0.674</td>\n",
       "      <td>0.661</td>\n",
       "      <td>0.666</td>\n",
       "      <td>0.666</td>\n",
       "      <td>0.0</td>\n",
       "      <td>^TNX</td>\n",
       "    </tr>\n",
       "    <tr>\n",
       "      <td>2020-09-25</td>\n",
       "      <td>0.659</td>\n",
       "      <td>0.664</td>\n",
       "      <td>0.651</td>\n",
       "      <td>0.659</td>\n",
       "      <td>0.659</td>\n",
       "      <td>0.0</td>\n",
       "      <td>^TNX</td>\n",
       "    </tr>\n",
       "    <tr>\n",
       "      <td>2020-09-27</td>\n",
       "      <td>NaN</td>\n",
       "      <td>NaN</td>\n",
       "      <td>NaN</td>\n",
       "      <td>NaN</td>\n",
       "      <td>NaN</td>\n",
       "      <td>NaN</td>\n",
       "      <td>^TNX</td>\n",
       "    </tr>\n",
       "    <tr>\n",
       "      <td>2020-09-28</td>\n",
       "      <td>0.671</td>\n",
       "      <td>0.671</td>\n",
       "      <td>0.656</td>\n",
       "      <td>0.663</td>\n",
       "      <td>0.663</td>\n",
       "      <td>0.0</td>\n",
       "      <td>^TNX</td>\n",
       "    </tr>\n",
       "  </tbody>\n",
       "</table>\n",
       "<p>15692 rows × 7 columns</p>\n",
       "</div>"
      ],
      "text/plain": [
       "             open   high    low  close  adjclose  volume ticker\n",
       "1970-03-25  6.960  6.960  6.960  6.960     6.960     0.0   ^TNX\n",
       "1970-03-26  6.980  6.980  6.980  6.980     6.980     0.0   ^TNX\n",
       "1970-03-27    NaN    NaN    NaN    NaN       NaN     NaN   ^TNX\n",
       "1970-03-29    NaN    NaN    NaN    NaN       NaN     NaN   ^TNX\n",
       "1970-03-30  7.050  7.050  7.050  7.050     7.050     0.0   ^TNX\n",
       "...           ...    ...    ...    ...       ...     ...    ...\n",
       "2020-09-23  0.679  0.692  0.671  0.676     0.676     0.0   ^TNX\n",
       "2020-09-24  0.668  0.674  0.661  0.666     0.666     0.0   ^TNX\n",
       "2020-09-25  0.659  0.664  0.651  0.659     0.659     0.0   ^TNX\n",
       "2020-09-27    NaN    NaN    NaN    NaN       NaN     NaN   ^TNX\n",
       "2020-09-28  0.671  0.671  0.656  0.663     0.663     0.0   ^TNX\n",
       "\n",
       "[15692 rows x 7 columns]"
      ]
     },
     "execution_count": 19,
     "metadata": {},
     "output_type": "execute_result"
    }
   ],
   "source": [
    "assets = [ten_yield, eth, btc]\n",
    "ten_yield"
   ]
  },
  {
   "cell_type": "code",
   "execution_count": 39,
   "metadata": {},
   "outputs": [
    {
     "data": {
      "image/png": "[encoded data removed]",
      "text/plain": [
       "<Figure size 720x360 with 1 Axes>"
      ]
     },
     "metadata": {
      "needs_background": "light"
     },
     "output_type": "display_data"
    }
   ],
   "source": [
    "close = [assets[i]['close'] for i in range(len(assets))]\n",
    "for i in range(len(close)):\n",
    "    (close[i]/close[i][0] * 100).plot(figsize = (10\n",
    "                                                 , 5))\n",
    "\n"
   ]
  },
  {
   "cell_type": "code",
   "execution_count": 52,
   "metadata": {},
   "outputs": [
    {
     "data": {
      "text/plain": [
       "[array([[<matplotlib.axes._subplots.AxesSubplot object at 0x13a50fdd0>]],\n",
       "       dtype=object),\n",
       " array([[<matplotlib.axes._subplots.AxesSubplot object at 0x13a512510>]],\n",
       "       dtype=object),\n",
       " array([[<matplotlib.axes._subplots.AxesSubplot object at 0x13a7edc90>]],\n",
       "       dtype=object)]"
      ]
     },
     "execution_count": 52,
     "metadata": {},
     "output_type": "execute_result"
    },
    {
     "data": {
      "image/png": "[encoded data removed]",
      "text/plain": [
       "<Figure size 1080x432 with 1 Axes>"
      ]
     },
     "metadata": {
      "needs_background": "light"
     },
     "output_type": "display_data"
    },
    {
     "data": {
      "image/png": "[encoded data removed]",
      "text/plain": [
       "<Figure size 1080x432 with 1 Axes>"
      ]
     },
     "metadata": {
      "needs_background": "light"
     },
     "output_type": "display_data"
    },
    {
     "data": {
      "image/png": "[encoded data removed]",
      "text/plain": [
       "<Figure size 1080x432 with 1 Axes>"
      ]
     },
     "metadata": {
      "needs_background": "light"
     },
     "output_type": "display_data"
    }
   ],
   "source": [
    "returns = [pd.DataFrame(np.log(clo/clo.shift(1))) for clo in close]\n",
    "k = lambda returnss: returnss.hist(bins = 50, figsize = (15, 6))\n",
    "list(map(k, returns))"
   ]
  },
  {
   "cell_type": "code",
   "execution_count": 77,
   "metadata": {},
   "outputs": [
    {
     "data": {
      "text/html": [
       "<div>\n",
       "<style scoped>\n",
       "    .dataframe tbody tr th:only-of-type {\n",
       "        vertical-align: middle;\n",
       "    }\n",
       "\n",
       "    .dataframe tbody tr th {\n",
       "        vertical-align: top;\n",
       "    }\n",
       "\n",
       "    .dataframe thead th {\n",
       "        text-align: right;\n",
       "    }\n",
       "</style>\n",
       "<table border=\"1\" class=\"dataframe\">\n",
       "  <thead>\n",
       "    <tr style=\"text-align: right;\">\n",
       "      <th></th>\n",
       "      <th>close_x</th>\n",
       "      <th>close_y</th>\n",
       "      <th>close</th>\n",
       "    </tr>\n",
       "  </thead>\n",
       "  <tbody>\n",
       "    <tr>\n",
       "      <td>close_x</td>\n",
       "      <td>0.001163</td>\n",
       "      <td>-0.000037</td>\n",
       "      <td>-0.000019</td>\n",
       "    </tr>\n",
       "    <tr>\n",
       "      <td>close_y</td>\n",
       "      <td>-0.000037</td>\n",
       "      <td>0.005788</td>\n",
       "      <td>0.001505</td>\n",
       "    </tr>\n",
       "    <tr>\n",
       "      <td>close</td>\n",
       "      <td>-0.000019</td>\n",
       "      <td>0.001505</td>\n",
       "      <td>0.001749</td>\n",
       "    </tr>\n",
       "  </tbody>\n",
       "</table>\n",
       "</div>"
      ],
      "text/plain": [
       "          close_x   close_y     close\n",
       "close_x  0.001163 -0.000037 -0.000019\n",
       "close_y -0.000037  0.005788  0.001505\n",
       "close   -0.000019  0.001505  0.001749"
      ]
     },
     "execution_count": 77,
     "metadata": {},
     "output_type": "execute_result"
    }
   ],
   "source": [
    "from functools import reduce\n",
    "df_merged = reduce(lambda  left,right: pd.merge(left,right, left_index = True, right_index = True,\n",
    "                                            how='outer'), returns)\n",
    "df = df_merged.copy()\n",
    "df = df.dropna()\n",
    "df.cov()"
   ]
  },
  {
   "cell_type": "code",
   "execution_count": 130,
   "metadata": {},
   "outputs": [],
   "source": [
    "rs, vs = [], []\n",
    "for i in range(1000):\n",
    "    weights = np.random.random(len(assets))\n",
    "    weights /= np.sum(weights)\n",
    "    r = np.sum(weights * 365 * df.mean())\n",
    "    v = np.sqrt(np.dot(weights.T, np.dot(df.cov() * 365, weights)))\n",
    "    rs.append(r)\n",
    "    vs.append(v)"
   ]
  },
  {
   "cell_type": "code",
   "execution_count": 96,
   "metadata": {},
   "outputs": [],
   "source": [
    "def stats(weights):\n",
    "    weights = np.array(weights)\n",
    "    returns = np.sum(df.mean() * weights.T) * 252\n",
    "    variance = np.sqrt(np.dot(weights.T, np.dot(df.cov() * 252, weights)))\n",
    "    return returns, variance, returns/variance"
   ]
  },
  {
   "cell_type": "code",
   "execution_count": 97,
   "metadata": {},
   "outputs": [],
   "source": [
    "#max sharpe large\n",
    "import scipy.optimize as sco\n",
    "sharpes = lambda x: -stats(weights)[2]\n",
    "cons = ({'type': 'eq', 'fun': lambda x: np.sum(x) - 1})\n",
    "bnds = tuple((0, 1) for x in range(len(assets)))\n",
    "\n",
    "opts = sco.minimize(sharpes, [1/len(assets)] * 3, method = 'SLSQP', bounds = bnds, constraints = cons)"
   ]
  },
  {
   "cell_type": "code",
   "execution_count": 98,
   "metadata": {},
   "outputs": [
    {
     "data": {
      "text/plain": [
       "array([0.33333333, 0.33333333, 0.33333333])"
      ]
     },
     "execution_count": 98,
     "metadata": {},
     "output_type": "execute_result"
    }
   ],
   "source": [
    "opts['x']"
   ]
  },
  {
   "cell_type": "code",
   "execution_count": 99,
   "metadata": {},
   "outputs": [
    {
     "data": {
      "text/plain": [
       "(0.48020027042099533, 0.569855594658076, 0.842670099096113)"
      ]
     },
     "execution_count": 99,
     "metadata": {},
     "output_type": "execute_result"
    }
   ],
   "source": [
    "stats(opts['x'])"
   ]
  },
  {
   "cell_type": "code",
   "execution_count": 100,
   "metadata": {},
   "outputs": [
    {
     "data": {
      "text/plain": [
       "     fun: 0.4160039297228862\n",
       "     jac: array([0.41617332, 0.41593294, 0.41574079])\n",
       " message: 'Optimization terminated successfully.'\n",
       "    nfev: 25\n",
       "     nit: 5\n",
       "    njev: 5\n",
       "  status: 0\n",
       " success: True\n",
       "       x: array([0.59767188, 0.0241098 , 0.37821832])"
      ]
     },
     "execution_count": 100,
     "metadata": {},
     "output_type": "execute_result"
    }
   ],
   "source": [
    "##min variance\n",
    "def min_variance(weights):\n",
    "    return stats(weights)[1]\n",
    "\n",
    "optv = sco.minimize(min_variance, [1/len(assets)] * 3, method = 'SLSQP', bounds = bnds, constraints = cons)\n",
    "optv"
   ]
  },
  {
   "cell_type": "code",
   "execution_count": 101,
   "metadata": {},
   "outputs": [
    {
     "data": {
      "text/plain": [
       "(0.1837260220371656, 0.4160039297228862, 0.44164491945917794)"
      ]
     },
     "execution_count": 101,
     "metadata": {},
     "output_type": "execute_result"
    }
   ],
   "source": [
    "stats(optv['x'])"
   ]
  },
  {
   "cell_type": "code",
   "execution_count": 116,
   "metadata": {},
   "outputs": [],
   "source": [
    "target = np.linspace(0, 0.5, 50)\n",
    "weights, variances = [], []\n",
    "for tar in target:\n",
    "    cons = ({'type': 'eq', 'fun': lambda x: stats(x)[0] - tar }, {'type': 'eq', 'fun': lambda x: np.sum(x) -1})\n",
    "    res = sco.minimize(min_variance, [1/len(assets)] * len(assets), method = 'SLSQP', bounds = bnds, constraints = cons)\n",
    "    weights.append(res['x'])\n",
    "    variances.append(res['fun'])"
   ]
  },
  {
   "cell_type": "code",
   "execution_count": 121,
   "metadata": {},
   "outputs": [
    {
     "data": {
      "text/plain": [
       "[array([8.29257189e-01, 5.55111512e-17, 1.70742811e-01]),\n",
       " array([0.81585327, 0.        , 0.18414673]),\n",
       " array([0.80244934, 0.        , 0.19755066]),\n",
       " array([0.78904542, 0.        , 0.21095458]),\n",
       " array([7.75641499e-01, 5.55111512e-17, 2.24358501e-01]),\n",
       " array([0.76223758, 0.        , 0.23776242]),\n",
       " array([0.74883365, 0.        , 0.25116635]),\n",
       " array([7.35429731e-01, 5.55111512e-17, 2.64570269e-01]),\n",
       " array([0.72202581, 0.        , 0.27797419]),\n",
       " array([7.08621886e-01, 1.11022302e-16, 2.91378114e-01]),\n",
       " array([6.95217963e-01, 1.11022302e-16, 3.04782037e-01]),\n",
       " array([0.68181404, 0.        , 0.31818596]),\n",
       " array([0.66910551, 0.00171879, 0.32917571]),\n",
       " array([0.65729036, 0.00564578, 0.33706386]),\n",
       " array([0.64536964, 0.00931182, 0.34531854]),\n",
       " array([0.63344907, 0.01297821, 0.35357272]),\n",
       " array([0.62152867, 0.01664504, 0.36182629]),\n",
       " array([0.60960845, 0.02031233, 0.37007922]),\n",
       " array([0.5976884 , 0.02398003, 0.37833157]),\n",
       " array([0.58576847, 0.027648  , 0.38658353]),\n",
       " array([0.57384855, 0.03131602, 0.39483543]),\n",
       " array([0.56192853, 0.03498378, 0.40308769]),\n",
       " array([0.55000824, 0.03865089, 0.41134086]),\n",
       " array([0.53808751, 0.04231692, 0.41959557]),\n",
       " array([0.52616471, 0.0459778 , 0.42785749]),\n",
       " array([0.51424224, 0.04963952, 0.43611824]),\n",
       " array([0.50232034, 0.05330264, 0.44437702]),\n",
       " array([0.49022497, 0.05653699, 0.45323804]),\n",
       " array([0.47840937, 0.06046285, 0.46112778]),\n",
       " array([0.46656852, 0.06432631, 0.46910517]),\n",
       " array([0.45470099, 0.06812382, 0.47717518]),\n",
       " array([0.44280505, 0.07185111, 0.48534384]),\n",
       " array([0.43087877, 0.07550339, 0.49361783]),\n",
       " array([0.41892018, 0.07907582, 0.50200401]),\n",
       " array([0.40692749, 0.08256397, 0.51050855]),\n",
       " array([0.3948994 , 0.08596463, 0.51913597]),\n",
       " array([0.38311078, 0.08995719, 0.52693203]),\n",
       " array([0.37119009, 0.09362329, 0.53518662]),\n",
       " array([0.35926956, 0.09728979, 0.54344065]),\n",
       " array([0.34734925, 0.10095685, 0.55169389]),\n",
       " array([0.33542924, 0.10462463, 0.55994613]),\n",
       " array([0.32350956, 0.10829324, 0.5681972 ]),\n",
       " array([0.31159024, 0.11196274, 0.57644702]),\n",
       " array([0.29967128, 0.11563314, 0.58469558]),\n",
       " array([0.28775266, 0.11930435, 0.59294299]),\n",
       " array([0.2758343 , 0.12297623, 0.60118947]),\n",
       " array([0.26391611, 0.12664852, 0.60943537]),\n",
       " array([0.25199798, 0.13032096, 0.61768106]),\n",
       " array([0.24007977, 0.1339932 , 0.62592703]),\n",
       " array([0.22816133, 0.13766488, 0.63417378])]"
      ]
     },
     "execution_count": 121,
     "metadata": {},
     "output_type": "execute_result"
    }
   ],
   "source": [
    "target\n",
    "variances\n",
    "weights"
   ]
  },
  {
   "cell_type": "code",
   "execution_count": 139,
   "metadata": {},
   "outputs": [
    {
     "data": {
      "text/plain": [
       "<matplotlib.collections.PathCollection at 0x13c12f950>"
      ]
     },
     "execution_count": 139,
     "metadata": {},
     "output_type": "execute_result"
    },
    {
     "data": {
      "image/png": "[encoded data removed]",
      "text/plain": [
       "<Figure size 432x288 with 1 Axes>"
      ]
     },
     "metadata": {
      "needs_background": "light"
     },
     "output_type": "display_data"
    }
   ],
   "source": [
    "plt.scatter(vs, rs)\n",
    "plt.scatter(variances, target, c = target/variances, marker = 'o'\n",
    "        )"
   ]
  },
  {
   "cell_type": "code",
   "execution_count": null,
   "metadata": {},
   "outputs": [],
   "source": []
  }
 ],
 "metadata": {
  "kernelspec": {
   "display_name": "Python 3",
   "language": "python",
   "name": "python3"
  },
  "language_info": {
   "codemirror_mode": {
    "name": "ipython",
    "version": 3
   },
   "file_extension": ".py",
   "mimetype": "text/x-python",
   "name": "python",
   "nbconvert_exporter": "python",
   "pygments_lexer": "ipython3",
   "version": "3.7.4"
  }
 },
 "nbformat": 4,
 "nbformat_minor": 2
}
